{
 "cells": [
  {
   "cell_type": "code",
   "execution_count": 110,
   "metadata": {
    "collapsed": true,
    "pycharm": {
     "is_executing": false
    }
   },
   "outputs": [],
   "source": [
    "################################################\n",
    "#I'm going to find an orthogonal basis for the space V with the normal\n",
    "#basis of {v_1, v_2, ... , v_k}. In order to do that I'm going to\n",
    "#implement the Gram-Schmidt process by using numpy package.\n",
    "#So here we go ...\n",
    "################################################"
   ]
  },
  {
   "cell_type": "code",
   "execution_count": 5,
   "metadata": {
    "pycharm": {
     "is_executing": false,
     "name": "#%%\n"
    }
   },
   "outputs": [],
   "source": [
    "import numpy as np\n",
    "\n",
    "#Since I use normalized vectors frequently in this algorithm,\n",
    "#here is a function which calculates the normalized vector.\n",
    "def normalize(v):\n",
    "    return v/np.linalg.norm(v)\n",
    "\n",
    "#Also I will define a function which will compute the projection of  \n",
    "#vector v on subspace w.\n",
    "#The projection of a vector like a on a subspace like b with the basis\n",
    "#like {b_1, b_2, b_3, ..., b_n} is equal to \n",
    "#//Summation of (((b_i)dot product a)/norm(b_i))*((b_i)/(norm(b_i))) for (1<=i<=n)//\n",
    "def projection(v,w):\n",
    "    projection_result = sum(np.dot(v,vec)*np.array(vec) for vec in w)\n",
    "    return projection_result"
   ]
  },
  {
   "cell_type": "code",
   "execution_count": 6,
   "metadata": {
    "pycharm": {
     "is_executing": false,
     "name": "#%%\n"
    }
   },
   "outputs": [],
   "source": [
    "#Gram-Schmidt main algorithm:\n",
    "#we can say that V_1 is a subspace of V with basis of v_1 i.e.:\n",
    "#V_1 = span(v_1) = span(u_1) where u_1 is the normalized vector of v_1\n",
    "\n",
    "#for two dimensional space like V_2 we would have:\n",
    "#V_2 = span(v_1, v_2) = span(u_1, v_2) where v_2 must be orthogonal with\n",
    "#respect to u_1. So, I can say that there is a vector like y_2 such that\n",
    "#y_2 = v_2 - projection of v_2 on V_1 \n",
    "#and y_2 is orthogonal to V_1 and also orthogonal to u_1\n",
    "\n",
    "#Since I need an orthonormal basis I will have u_2 = y_2/norm(y_2)\n",
    "#this procedure will be repeated until the subspace V_k which is equivalent with V.\n",
    "#here is the code:\n",
    "def gram_schmidt(V):\n",
    "    U = [normalize(V[0])]\n",
    "    #print(len(V))\n",
    "    for v in V:\n",
    "        w = v - projection(v, U)\n",
    "        if np.linalg.norm(w)>0: \n",
    "            U.append(normalize(w))\n",
    "    if len(U)==1:\n",
    "        return np.array(U)\n",
    "    else:\n",
    "        return np.array(U[1:])\n",
    "    "
   ]
  },
  {
   "cell_type": "code",
   "execution_count": 7,
   "metadata": {
    "pycharm": {
     "is_executing": false,
     "name": "#%%\n"
    }
   },
   "outputs": [
    {
     "name": "stdout",
     "output_type": "stream",
     "text": [
      "The basic basis for V is :\n",
      "[[0.61305681 0.36567593 0.68233065 ... 0.12714131 0.35296766 0.7913573 ]\n",
      " [0.35389723 0.58523801 0.11594229 ... 0.68425932 0.5423427  0.00107425]\n",
      " [0.41963021 0.02520322 0.4213293  ... 0.89277879 0.07525891 0.18815785]\n",
      " ...\n",
      " [0.47137849 0.96884552 0.79405974 ... 0.67290945 0.73617864 0.7796742 ]\n",
      " [0.94814387 0.13464075 0.02449699 ... 0.22329226 0.87526691 0.12399577]\n",
      " [0.98718892 0.06905377 0.29350259 ... 0.20807483 0.77082121 0.15523622]]\n",
      "----------------------------------------------------------------------------------------------------\n",
      "Orthonormal basis for V is :\n",
      "[[ 0.          0.          0.         ...  0.          0.\n",
      "  -0.14961717]\n",
      " [-0.00813332  0.04227244 -0.04405959 ...  0.07525195  0.03796233\n",
      "  -0.04911542]\n",
      " [ 0.00029671 -0.05160976  0.01001815 ...  0.07410281 -0.0416439\n",
      "  -0.02004582]\n",
      " ...\n",
      " [-0.04837426 -0.09215356  0.08740079 ... -0.03221386 -0.06782296\n",
      "  -0.04651515]\n",
      " [-0.04656549 -0.09352245  0.08807066 ... -0.0326941  -0.06947324\n",
      "  -0.04601488]\n",
      " [-0.04615062 -0.0946024   0.08964339 ... -0.02847013 -0.06623507\n",
      "  -0.04827964]]\n"
     ]
    }
   ],
   "source": [
    "#I'm going to set the number of vectors in basis of V and number of \n",
    "#elements in each vector\n",
    "NUMBER = np.random.randint(1, 1000)\n",
    "ELEMENTS = np.random.randint(1, 1000)\n",
    "\n",
    "#First of all we should have an array of vectors which is the basic\n",
    "#type of basis for space like V:\n",
    "basic_basis = np.random.rand(NUMBER,ELEMENTS)\n",
    "print(\"The basic basis for V is :\")\n",
    "print(basic_basis)\n",
    "print(\"-\"*100)\n",
    "#Here is my ORTHONORMAL basis for V:\n",
    "orthonormal_basis = gram_schmidt(basic_basis)\n",
    "print(\"Orthonormal basis for V is :\")\n",
    "print(orthonormal_basis)"
   ]
  },
  {
   "cell_type": "code",
   "execution_count": null,
   "metadata": {
    "pycharm": {
     "name": "#%%\n"
    }
   },
   "outputs": [],
   "source": [
    "\n"
   ]
  }
 ],
 "metadata": {
  "kernelspec": {
   "display_name": "Python 3",
   "language": "python",
   "name": "python3"
  },
  "language_info": {
   "codemirror_mode": {
    "name": "ipython",
    "version": 3
   },
   "file_extension": ".py",
   "mimetype": "text/x-python",
   "name": "python",
   "nbconvert_exporter": "python",
   "pygments_lexer": "ipython3",
   "version": "3.7.0"
  },
  "pycharm": {
   "stem_cell": {
    "cell_type": "raw",
    "metadata": {
     "collapsed": false
    },
    "source": []
   }
  }
 },
 "nbformat": 4,
 "nbformat_minor": 1
}
