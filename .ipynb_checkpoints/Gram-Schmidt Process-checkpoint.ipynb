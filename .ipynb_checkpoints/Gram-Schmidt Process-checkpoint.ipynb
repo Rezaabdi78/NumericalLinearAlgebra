{
 "cells": [
  {
   "cell_type": "code",
   "execution_count": 1,
   "metadata": {
    "pycharm": {
     "is_executing": false
    }
   },
   "outputs": [],
   "source": [
    "################################################\n",
    "#I'm going to find an orthogonal basis for the space V with the normal\n",
    "#basis of {v_1, v_2, ... , v_k}. In order to do that I'm going to\n",
    "#implement the Gram-Schmidt process by using numpy package.\n",
    "#So here we go ...\n",
    "################################################"
   ]
  },
  {
   "cell_type": "code",
   "execution_count": 2,
   "metadata": {
    "pycharm": {
     "is_executing": false,
     "name": "#%%\n"
    }
   },
   "outputs": [],
   "source": [
    "import numpy as np\n",
    "\n",
    "#Since I use normalized vectors frequently in this algorithm,\n",
    "#here is a function which calculates the normalized vector.\n",
    "def normalize(v):\n",
    "    return v/np.linalg.norm(v)\n",
    "\n",
    "#Also I will define a function which will compute the projection of  \n",
    "#vector v on subspace w.\n",
    "#The projection of a vector like a on a subspace like b with the basis\n",
    "#like {b_1, b_2, b_3, ..., b_n} is equal to \n",
    "#//Summation of (((b_i)dot product a)/norm(b_i))*((b_i)/(norm(b_i))) for (1<=i<=n)//\n",
    "def projection(v,w):\n",
    "    projection_result = sum(np.dot(v,vec)*np.array(vec) for vec in w)\n",
    "    return projection_result"
   ]
  },
  {
   "cell_type": "code",
   "execution_count": 3,
   "metadata": {
    "pycharm": {
     "is_executing": false,
     "name": "#%%\n"
    }
   },
   "outputs": [],
   "source": [
    "#Gram-Schmidt main algorithm:\n",
    "#we can say that V_1 is a subspace of V with basis of v_1 i.e.:\n",
    "#V_1 = span(v_1) = span(u_1) where u_1 is the normalized vector of v_1\n",
    "\n",
    "#for two dimensional space like V_2 we would have:\n",
    "#V_2 = span(v_1, v_2) = span(u_1, v_2) where v_2 must be orthogonal with\n",
    "#respect to u_1. So, I can say that there is a vector like y_2 such that\n",
    "#y_2 = v_2 - projection of v_2 on V_1 \n",
    "#and y_2 is orthogonal to V_1 and also orthogonal to u_1\n",
    "\n",
    "#Since I need an orthonormal basis I will have u_2 = y_2/norm(y_2)\n",
    "#this procedure will be repeated until the subspace V_k which is equivalent with V.\n",
    "#here is the code:\n",
    "def gram_schmidt(V):\n",
    "    U = [normalize(V[0])]\n",
    "    #print(len(V))\n",
    "    for v in V:\n",
    "        w = v - projection(v, U)\n",
    "        if np.linalg.norm(w)>0: \n",
    "            U.append(normalize(w))\n",
    "    if len(U)==1:\n",
    "        return np.array(U)\n",
    "    else:\n",
    "        return np.array(U[1:])\n",
    "    "
   ]
  },
  {
   "cell_type": "code",
   "execution_count": 4,
   "metadata": {
    "pycharm": {
     "is_executing": false,
     "name": "#%%\n"
    }
   },
   "outputs": [
    {
     "name": "stdout",
     "output_type": "stream",
     "text": [
      "The basic basis for V is :\n",
      "[[0.65304495 0.51634145 0.036721   0.82663603 0.34288562 0.00197053\n",
      "  0.41186821 0.39903578 0.72967008 0.90556464]\n",
      " [0.97721591 0.36229746 0.47341438 0.7029385  0.69099195 0.20601017\n",
      "  0.79664586 0.39794961 0.27874879 0.86642411]\n",
      " [0.20241387 0.51865404 0.15179558 0.67473743 0.62278724 0.79408087\n",
      "  0.40426278 0.07809349 0.03622907 0.92086706]\n",
      " [0.42678769 0.66021155 0.18721548 0.80600601 0.6083225  0.00534404\n",
      "  0.85254556 0.24727459 0.08527051 0.9701216 ]\n",
      " [0.0262621  0.875908   0.39711188 0.87610859 0.64187185 0.08773044\n",
      "  0.5915822  0.4602857  0.17848004 0.71773014]]\n",
      "----------------------------------------------------------------------------------------------------\n",
      "Orthonormal basis for V is :\n",
      "[[ 0.36068723 -0.15990306  0.47416437 -0.12267409  0.38233623  0.22133636\n",
      "   0.42307038  0.00436975 -0.47894125 -0.02986307]\n",
      " [-0.44907296  0.24053246 -0.12162829  0.15802648  0.18446066  0.6842068\n",
      "  -0.10657742 -0.20708566 -0.23078764  0.30172997]\n",
      " [-0.38172572  0.34095369 -0.12533916  0.12103641  0.03644965 -0.56780833\n",
      "   0.4568317  -0.08783792 -0.39390326  0.11122488]\n",
      " [-0.35929795  0.33126932  0.54204494  0.15081451  0.18343311 -0.01407012\n",
      "  -0.17680849  0.46245087  0.12886359 -0.38604966]]\n"
     ]
    }
   ],
   "source": [
    "#I'm going to set the number of vectors in basis of V and number of \n",
    "#elements in each vector\n",
    "NUMBER = 5\n",
    "ELEMENTS = 10\n",
    "\n",
    "#First of all we should have an array of vectors which is the basic\n",
    "#type of basis for space like V:\n",
    "basic_basis = np.random.rand(NUMBER,ELEMENTS)\n",
    "print(\"The basic basis for V is :\")\n",
    "print(basic_basis)\n",
    "print(\"-\"*100)\n",
    "#Here is my ORTHONORMAL basis for V:\n",
    "orthonormal_basis = gram_schmidt(basic_basis)\n",
    "print(\"Orthonormal basis for V is :\")\n",
    "print(orthonormal_basis)"
   ]
  },
  {
   "cell_type": "code",
   "execution_count": null,
   "metadata": {
    "pycharm": {
     "name": "#%%\n"
    }
   },
   "outputs": [],
   "source": [
    "\n"
   ]
  }
 ],
 "metadata": {
  "kernelspec": {
   "display_name": "Python 3",
   "language": "python",
   "name": "python3"
  },
  "language_info": {
   "codemirror_mode": {
    "name": "ipython",
    "version": 3
   },
   "file_extension": ".py",
   "mimetype": "text/x-python",
   "name": "python",
   "nbconvert_exporter": "python",
   "pygments_lexer": "ipython3",
   "version": "3.7.0"
  },
  "pycharm": {
   "stem_cell": {
    "cell_type": "raw",
    "metadata": {
     "collapsed": false
    },
    "source": []
   }
  }
 },
 "nbformat": 4,
 "nbformat_minor": 1
}
